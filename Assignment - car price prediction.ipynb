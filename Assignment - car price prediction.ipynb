{
 "cells": [
  {
   "cell_type": "markdown",
   "metadata": {},
   "source": [
    "## Read data"
   ]
  },
  {
   "cell_type": "code",
   "execution_count": 1,
   "metadata": {},
   "outputs": [],
   "source": [
    "import pandas as pd\n",
    "import numpy as np\n",
    "import matplotlib.pyplot as mlt"
   ]
  },
  {
   "cell_type": "code",
   "execution_count": 6,
   "metadata": {},
   "outputs": [],
   "source": [
    "df=pd.read_csv('E:/Nake/ML/car data.csv')"
   ]
  },
  {
   "cell_type": "code",
   "execution_count": 7,
   "metadata": {},
   "outputs": [
    {
     "data": {
      "text/html": [
       "<div>\n",
       "<style scoped>\n",
       "    .dataframe tbody tr th:only-of-type {\n",
       "        vertical-align: middle;\n",
       "    }\n",
       "\n",
       "    .dataframe tbody tr th {\n",
       "        vertical-align: top;\n",
       "    }\n",
       "\n",
       "    .dataframe thead th {\n",
       "        text-align: right;\n",
       "    }\n",
       "</style>\n",
       "<table border=\"1\" class=\"dataframe\">\n",
       "  <thead>\n",
       "    <tr style=\"text-align: right;\">\n",
       "      <th></th>\n",
       "      <th>Car_Name</th>\n",
       "      <th>Year</th>\n",
       "      <th>Selling_Price</th>\n",
       "      <th>Present_Price</th>\n",
       "      <th>Kms_Driven</th>\n",
       "      <th>Fuel_Type</th>\n",
       "      <th>Seller_Type</th>\n",
       "      <th>Transmission</th>\n",
       "      <th>Owner</th>\n",
       "    </tr>\n",
       "  </thead>\n",
       "  <tbody>\n",
       "    <tr>\n",
       "      <th>0</th>\n",
       "      <td>ritz</td>\n",
       "      <td>2014</td>\n",
       "      <td>3.35</td>\n",
       "      <td>5.59</td>\n",
       "      <td>27000</td>\n",
       "      <td>Petrol</td>\n",
       "      <td>Dealer</td>\n",
       "      <td>Manual</td>\n",
       "      <td>0</td>\n",
       "    </tr>\n",
       "    <tr>\n",
       "      <th>1</th>\n",
       "      <td>sx4</td>\n",
       "      <td>2013</td>\n",
       "      <td>4.75</td>\n",
       "      <td>9.54</td>\n",
       "      <td>43000</td>\n",
       "      <td>Diesel</td>\n",
       "      <td>Dealer</td>\n",
       "      <td>Manual</td>\n",
       "      <td>0</td>\n",
       "    </tr>\n",
       "    <tr>\n",
       "      <th>2</th>\n",
       "      <td>ciaz</td>\n",
       "      <td>2017</td>\n",
       "      <td>7.25</td>\n",
       "      <td>9.85</td>\n",
       "      <td>6900</td>\n",
       "      <td>Petrol</td>\n",
       "      <td>Dealer</td>\n",
       "      <td>Manual</td>\n",
       "      <td>0</td>\n",
       "    </tr>\n",
       "    <tr>\n",
       "      <th>3</th>\n",
       "      <td>wagon r</td>\n",
       "      <td>2011</td>\n",
       "      <td>2.85</td>\n",
       "      <td>4.15</td>\n",
       "      <td>5200</td>\n",
       "      <td>Petrol</td>\n",
       "      <td>Dealer</td>\n",
       "      <td>Manual</td>\n",
       "      <td>0</td>\n",
       "    </tr>\n",
       "    <tr>\n",
       "      <th>4</th>\n",
       "      <td>swift</td>\n",
       "      <td>2014</td>\n",
       "      <td>4.60</td>\n",
       "      <td>6.87</td>\n",
       "      <td>42450</td>\n",
       "      <td>Diesel</td>\n",
       "      <td>Dealer</td>\n",
       "      <td>Manual</td>\n",
       "      <td>0</td>\n",
       "    </tr>\n",
       "  </tbody>\n",
       "</table>\n",
       "</div>"
      ],
      "text/plain": [
       "  Car_Name  Year  Selling_Price  Present_Price  Kms_Driven Fuel_Type  \\\n",
       "0     ritz  2014           3.35           5.59       27000    Petrol   \n",
       "1      sx4  2013           4.75           9.54       43000    Diesel   \n",
       "2     ciaz  2017           7.25           9.85        6900    Petrol   \n",
       "3  wagon r  2011           2.85           4.15        5200    Petrol   \n",
       "4    swift  2014           4.60           6.87       42450    Diesel   \n",
       "\n",
       "  Seller_Type Transmission  Owner  \n",
       "0      Dealer       Manual      0  \n",
       "1      Dealer       Manual      0  \n",
       "2      Dealer       Manual      0  \n",
       "3      Dealer       Manual      0  \n",
       "4      Dealer       Manual      0  "
      ]
     },
     "execution_count": 7,
     "metadata": {},
     "output_type": "execute_result"
    }
   ],
   "source": [
    "df.head()"
   ]
  },
  {
   "cell_type": "code",
   "execution_count": 8,
   "metadata": {},
   "outputs": [
    {
     "data": {
      "text/plain": [
       "<bound method DataFrame.info of     Car_Name  Year  Selling_Price  Present_Price  Kms_Driven Fuel_Type  \\\n",
       "0       ritz  2014           3.35           5.59       27000    Petrol   \n",
       "1        sx4  2013           4.75           9.54       43000    Diesel   \n",
       "2       ciaz  2017           7.25           9.85        6900    Petrol   \n",
       "3    wagon r  2011           2.85           4.15        5200    Petrol   \n",
       "4      swift  2014           4.60           6.87       42450    Diesel   \n",
       "..       ...   ...            ...            ...         ...       ...   \n",
       "296     city  2016           9.50          11.60       33988    Diesel   \n",
       "297     brio  2015           4.00           5.90       60000    Petrol   \n",
       "298     city  2009           3.35          11.00       87934    Petrol   \n",
       "299     city  2017          11.50          12.50        9000    Diesel   \n",
       "300     brio  2016           5.30           5.90        5464    Petrol   \n",
       "\n",
       "    Seller_Type Transmission  Owner  \n",
       "0        Dealer       Manual      0  \n",
       "1        Dealer       Manual      0  \n",
       "2        Dealer       Manual      0  \n",
       "3        Dealer       Manual      0  \n",
       "4        Dealer       Manual      0  \n",
       "..          ...          ...    ...  \n",
       "296      Dealer       Manual      0  \n",
       "297      Dealer       Manual      0  \n",
       "298      Dealer       Manual      0  \n",
       "299      Dealer       Manual      0  \n",
       "300      Dealer       Manual      0  \n",
       "\n",
       "[301 rows x 9 columns]>"
      ]
     },
     "execution_count": 8,
     "metadata": {},
     "output_type": "execute_result"
    }
   ],
   "source": [
    "df.info"
   ]
  },
  {
   "cell_type": "markdown",
   "metadata": {},
   "source": [
    "## checking correlations"
   ]
  },
  {
   "cell_type": "code",
   "execution_count": 15,
   "metadata": {},
   "outputs": [
    {
     "name": "stdout",
     "output_type": "stream",
     "text": [
      "               Year  Selling_Price  Present_Price  Kms_Driven  Owner\n",
      "Year           1.00           0.24          -0.05       -0.52  -0.18\n",
      "Selling_Price  0.24           1.00           0.88        0.03  -0.09\n",
      "Present_Price -0.05           0.88           1.00        0.20   0.01\n",
      "Kms_Driven    -0.52           0.03           0.20        1.00   0.09\n",
      "Owner         -0.18          -0.09           0.01        0.09   1.00\n"
     ]
    }
   ],
   "source": [
    "corr_mat = df.corr().round(2)\n",
    "print(corr_mat)\n",
    "# selling_price is strongly correlated with year and present_price"
   ]
  },
  {
   "cell_type": "code",
   "execution_count": 17,
   "metadata": {},
   "outputs": [
    {
     "data": {
      "text/html": [
       "<div>\n",
       "<style scoped>\n",
       "    .dataframe tbody tr th:only-of-type {\n",
       "        vertical-align: middle;\n",
       "    }\n",
       "\n",
       "    .dataframe tbody tr th {\n",
       "        vertical-align: top;\n",
       "    }\n",
       "\n",
       "    .dataframe thead th {\n",
       "        text-align: right;\n",
       "    }\n",
       "</style>\n",
       "<table border=\"1\" class=\"dataframe\">\n",
       "  <thead>\n",
       "    <tr style=\"text-align: right;\">\n",
       "      <th></th>\n",
       "      <th>Present_Price</th>\n",
       "    </tr>\n",
       "  </thead>\n",
       "  <tbody>\n",
       "    <tr>\n",
       "      <th>0</th>\n",
       "      <td>5.59</td>\n",
       "    </tr>\n",
       "    <tr>\n",
       "      <th>1</th>\n",
       "      <td>9.54</td>\n",
       "    </tr>\n",
       "    <tr>\n",
       "      <th>2</th>\n",
       "      <td>9.85</td>\n",
       "    </tr>\n",
       "    <tr>\n",
       "      <th>3</th>\n",
       "      <td>4.15</td>\n",
       "    </tr>\n",
       "    <tr>\n",
       "      <th>4</th>\n",
       "      <td>6.87</td>\n",
       "    </tr>\n",
       "    <tr>\n",
       "      <th>...</th>\n",
       "      <td>...</td>\n",
       "    </tr>\n",
       "    <tr>\n",
       "      <th>296</th>\n",
       "      <td>11.60</td>\n",
       "    </tr>\n",
       "    <tr>\n",
       "      <th>297</th>\n",
       "      <td>5.90</td>\n",
       "    </tr>\n",
       "    <tr>\n",
       "      <th>298</th>\n",
       "      <td>11.00</td>\n",
       "    </tr>\n",
       "    <tr>\n",
       "      <th>299</th>\n",
       "      <td>12.50</td>\n",
       "    </tr>\n",
       "    <tr>\n",
       "      <th>300</th>\n",
       "      <td>5.90</td>\n",
       "    </tr>\n",
       "  </tbody>\n",
       "</table>\n",
       "<p>301 rows × 1 columns</p>\n",
       "</div>"
      ],
      "text/plain": [
       "     Present_Price\n",
       "0             5.59\n",
       "1             9.54\n",
       "2             9.85\n",
       "3             4.15\n",
       "4             6.87\n",
       "..             ...\n",
       "296          11.60\n",
       "297           5.90\n",
       "298          11.00\n",
       "299          12.50\n",
       "300           5.90\n",
       "\n",
       "[301 rows x 1 columns]"
      ]
     },
     "execution_count": 17,
     "metadata": {},
     "output_type": "execute_result"
    }
   ],
   "source": [
    "x=df[['Present_Price']]\n",
    "x"
   ]
  },
  {
   "cell_type": "code",
   "execution_count": 18,
   "metadata": {},
   "outputs": [
    {
     "data": {
      "text/plain": [
       "0       3.35\n",
       "1       4.75\n",
       "2       7.25\n",
       "3       2.85\n",
       "4       4.60\n",
       "       ...  \n",
       "296     9.50\n",
       "297     4.00\n",
       "298     3.35\n",
       "299    11.50\n",
       "300     5.30\n",
       "Name: Selling_Price, Length: 301, dtype: float64"
      ]
     },
     "execution_count": 18,
     "metadata": {},
     "output_type": "execute_result"
    }
   ],
   "source": [
    "y=df['Selling_Price']\n",
    "y"
   ]
  },
  {
   "cell_type": "markdown",
   "metadata": {},
   "source": [
    "## Split data "
   ]
  },
  {
   "cell_type": "code",
   "execution_count": 21,
   "metadata": {},
   "outputs": [],
   "source": [
    "from sklearn.model_selection import train_test_split"
   ]
  },
  {
   "cell_type": "code",
   "execution_count": 22,
   "metadata": {},
   "outputs": [],
   "source": [
    "x_train,x_test,y_train,y_test=train_test_split(x,y,test_size=0.2,random_state=0)"
   ]
  },
  {
   "cell_type": "markdown",
   "metadata": {},
   "source": [
    "## Fitting"
   ]
  },
  {
   "cell_type": "code",
   "execution_count": 23,
   "metadata": {},
   "outputs": [],
   "source": [
    "from sklearn.linear_model import LinearRegression"
   ]
  },
  {
   "cell_type": "code",
   "execution_count": 24,
   "metadata": {},
   "outputs": [],
   "source": [
    "lr=LinearRegression()"
   ]
  },
  {
   "cell_type": "code",
   "execution_count": 25,
   "metadata": {},
   "outputs": [
    {
     "data": {
      "text/plain": [
       "LinearRegression(copy_X=True, fit_intercept=True, n_jobs=None, normalize=False)"
      ]
     },
     "execution_count": 25,
     "metadata": {},
     "output_type": "execute_result"
    }
   ],
   "source": [
    "lr.fit(x_train,y_train)"
   ]
  },
  {
   "cell_type": "code",
   "execution_count": 28,
   "metadata": {},
   "outputs": [
    {
     "name": "stdout",
     "output_type": "stream",
     "text": [
      "[0.49520649]\n",
      "0.7487367086760983\n"
     ]
    }
   ],
   "source": [
    "print(lr.coef_)\n",
    "print(lr.intercept_)"
   ]
  },
  {
   "cell_type": "markdown",
   "metadata": {},
   "source": [
    "## Predicting"
   ]
  },
  {
   "cell_type": "code",
   "execution_count": 49,
   "metadata": {},
   "outputs": [],
   "source": [
    "y_test_pred=lr.predict(x_test)"
   ]
  },
  {
   "cell_type": "code",
   "execution_count": 30,
   "metadata": {},
   "outputs": [],
   "source": [
    "y_train_pred=lr.predict(x_train)"
   ]
  },
  {
   "cell_type": "code",
   "execution_count": 31,
   "metadata": {},
   "outputs": [
    {
     "name": "stdout",
     "output_type": "stream",
     "text": [
      "[ 5.40367775  1.15777727  3.57141372  6.49313204 10.53896909  3.70511948\n",
      "  4.1111888   1.02110028  4.1111888   5.40367775  3.02668658  1.21918288\n",
      "  3.57141372  5.67108926  6.09201478 12.21276704  4.95799191  4.09633261\n",
      "  1.26870353  1.65001253  4.71534073  3.57141372  5.40367775  7.48354503\n",
      "  1.12014158  1.16471016  1.13846422  1.3429845   1.23899114  8.19664238\n",
      "  4.1111888   5.651281    1.23899114  5.15112244  5.70080165  1.49154645\n",
      "  4.56182671  4.63610769  1.12014158  7.68162762  5.61661654 18.55636223\n",
      "  3.57141372  4.27955901  4.74010105  7.48354503  1.03595648  1.32812831\n",
      "  5.651281    5.01246462  6.7110229   2.94250148  5.40367775 18.55636223\n",
      "  1.49154645  1.47669025  1.13846422  2.94250148  3.65559883  2.45719911\n",
      "  7.53306568]\n",
      "[ 5.1709307   2.94250148 18.69006798  4.11614087  4.66086801  7.23098971\n",
      "  9.96452956  1.00129202  3.57636579  2.70480236  3.17029646  1.01614822\n",
      "  5.40367775  1.26870353  3.96262685  1.13846422  7.48354503  1.87780751\n",
      "  4.46278541  1.01614822  9.97938576  3.57141372  4.46278541  5.40367775\n",
      "  1.47669025  5.40367775  8.01836804  1.14985397  3.67045502  1.11518951\n",
      "  4.51230606  6.59217334  2.08084218  5.40367775  1.03100441  1.18451842\n",
      "  1.21918288  1.5410671   5.80479501  4.1111888   3.26933776  1.14985397\n",
      "  4.126045    1.61534807  1.21918288  6.92891375  3.39809145  5.40367775\n",
      "  3.02668658  7.48354503  2.94250148  1.00624409  1.15777727  5.67604132\n",
      "  7.41421612  1.14985397  4.75990931  9.96452956  1.16471016  4.51230606\n",
      "  1.63020427  3.57636579  5.88898012  1.02110028  6.09201478  4.34888792\n",
      "  4.11614087  1.47669025  4.11614087  2.94250148  4.15080532 13.32202959\n",
      "  1.11023745  4.56182671 10.87570951  1.21918288  1.12014158  1.23899114\n",
      "  3.67045502  4.64601182  1.00129202  4.56677878  1.49154645  1.03100441\n",
      "  2.80384366  1.00129202  1.61534807  2.93259735  3.71007154  6.86453691\n",
      "  4.90847126  1.03100441  4.70048453  7.48354503  3.57141372  5.40367775\n",
      "  8.1223614  15.90700749  5.62652067  7.48354503  1.47669025  0.98643583\n",
      " 46.60485805  2.53148009  1.13846422  4.11614087  2.71965855  4.31917553\n",
      "  1.00129202 15.90700749  4.1111888   5.40367775  1.47669025  5.70080165\n",
      " 18.55636223  1.03100441  5.40367775  1.17956636  5.651281    5.70080165\n",
      "  4.74010105  1.47669025  1.17956636  1.03595648  2.94250148  1.21423081\n",
      "  1.93723229  4.51230606  9.96452956  5.40367775 15.90700749  4.27955901\n",
      "  1.23899114  4.31422346  1.00624409  1.4420258   3.51694101 12.02954064\n",
      "  7.48354503  9.96452956  3.67045502  3.62093437  3.76949632 11.1035045\n",
      "  5.34920504  4.56677878 12.49998681  6.19600814  1.1449019   3.57141372\n",
      "  2.46215118  3.02668658  1.21423081  1.16471016 12.05430096  1.00129202\n",
      "  1.68962905  2.94250148  1.15480603  3.62093437  6.93881788  1.00624409\n",
      "  4.76981344  7.55287394  3.02668658  7.41421612  1.1597581   1.49154645\n",
      "  1.3429845   7.48354503  7.48354503  1.16471016  7.48354503  8.7166092\n",
      " 13.32202959  3.67045502  5.88898012  1.68962905  1.63020427  4.58163497\n",
      "  9.92986511  1.01614822  5.40367775  4.19042184  5.47300666  1.37269689\n",
      "  4.21518217  1.00624409  4.28946314  1.9223761   1.21918288 15.90700749\n",
      "  6.09201478  4.21518217  8.07284075  2.61071313 15.90700749  4.21518217\n",
      "  1.17956636  2.70480236  0.98148376  1.21918288  1.02110028  5.40367775\n",
      "  3.57141372  3.17029646  4.45783335  1.1449019   1.03595648  7.48354503\n",
      "  5.70080165  1.16471016  4.90847126  1.03100441 10.87570951  1.00129202\n",
      "  4.51230606  1.47669025  5.05703321  9.96452956  3.21981711  1.01614822\n",
      "  7.48354503  1.10528538  3.91805827  4.70048453  1.07062093  3.744736\n",
      "  4.09633261  7.55287394  4.27955901  7.48354503  8.07284075  5.16597863\n",
      "  0.90720279  5.651281    1.12014158  1.68962905  2.80384366  1.06566886]\n"
     ]
    }
   ],
   "source": [
    "print(y_test_pred)\n",
    "print(y_train_pred)"
   ]
  },
  {
   "cell_type": "markdown",
   "metadata": {},
   "source": [
    "## Metrics evaluation"
   ]
  },
  {
   "cell_type": "code",
   "execution_count": 32,
   "metadata": {},
   "outputs": [],
   "source": [
    "from sklearn.metrics import mean_squared_error"
   ]
  },
  {
   "cell_type": "code",
   "execution_count": 33,
   "metadata": {},
   "outputs": [],
   "source": [
    "mse_train=mean_squared_error(y_train_pred,y_train)"
   ]
  },
  {
   "cell_type": "code",
   "execution_count": 35,
   "metadata": {},
   "outputs": [
    {
     "data": {
      "text/plain": [
       "6.076897137341826"
      ]
     },
     "execution_count": 35,
     "metadata": {},
     "output_type": "execute_result"
    }
   ],
   "source": [
    "mse_train"
   ]
  },
  {
   "cell_type": "code",
   "execution_count": 37,
   "metadata": {},
   "outputs": [
    {
     "data": {
      "text/plain": [
       "2.465136332404726"
      ]
     },
     "execution_count": 37,
     "metadata": {},
     "output_type": "execute_result"
    }
   ],
   "source": [
    "rmse_train=np.sqrt(mse_train)\n",
    "rmse_train"
   ]
  },
  {
   "cell_type": "code",
   "execution_count": 38,
   "metadata": {},
   "outputs": [],
   "source": [
    "mse_test=mean_squared_error(y_test_pred,y_test)"
   ]
  },
  {
   "cell_type": "code",
   "execution_count": 39,
   "metadata": {},
   "outputs": [
    {
     "data": {
      "text/plain": [
       "5.2443142573240245"
      ]
     },
     "execution_count": 39,
     "metadata": {},
     "output_type": "execute_result"
    }
   ],
   "source": [
    "mse_test"
   ]
  },
  {
   "cell_type": "code",
   "execution_count": 54,
   "metadata": {},
   "outputs": [
    {
     "data": {
      "text/plain": [
       "2.290046780597293"
      ]
     },
     "execution_count": 54,
     "metadata": {},
     "output_type": "execute_result"
    }
   ],
   "source": [
    "rmse_test=np.sqrt(mse_test)\n",
    "rmse_test\n",
    "#low test error"
   ]
  },
  {
   "cell_type": "markdown",
   "metadata": {},
   "source": [
    "## Selling_price prediction"
   ]
  },
  {
   "cell_type": "code",
   "execution_count": 53,
   "metadata": {},
   "outputs": [
    {
     "name": "stdout",
     "output_type": "stream",
     "text": [
      "[ 5.1709307   2.94250148 18.69006798  4.11614087  4.66086801  7.23098971\n",
      "  9.96452956  1.00129202  3.57636579  2.70480236  3.17029646  1.01614822\n",
      "  5.40367775  1.26870353  3.96262685  1.13846422  7.48354503  1.87780751\n",
      "  4.46278541  1.01614822  9.97938576  3.57141372  4.46278541  5.40367775\n",
      "  1.47669025  5.40367775  8.01836804  1.14985397  3.67045502  1.11518951\n",
      "  4.51230606  6.59217334  2.08084218  5.40367775  1.03100441  1.18451842\n",
      "  1.21918288  1.5410671   5.80479501  4.1111888   3.26933776  1.14985397\n",
      "  4.126045    1.61534807  1.21918288  6.92891375  3.39809145  5.40367775\n",
      "  3.02668658  7.48354503  2.94250148  1.00624409  1.15777727  5.67604132\n",
      "  7.41421612  1.14985397  4.75990931  9.96452956  1.16471016  4.51230606\n",
      "  1.63020427  3.57636579  5.88898012  1.02110028  6.09201478  4.34888792\n",
      "  4.11614087  1.47669025  4.11614087  2.94250148  4.15080532 13.32202959\n",
      "  1.11023745  4.56182671 10.87570951  1.21918288  1.12014158  1.23899114\n",
      "  3.67045502  4.64601182  1.00129202  4.56677878  1.49154645  1.03100441\n",
      "  2.80384366  1.00129202  1.61534807  2.93259735  3.71007154  6.86453691\n",
      "  4.90847126  1.03100441  4.70048453  7.48354503  3.57141372  5.40367775\n",
      "  8.1223614  15.90700749  5.62652067  7.48354503  1.47669025  0.98643583\n",
      " 46.60485805  2.53148009  1.13846422  4.11614087  2.71965855  4.31917553\n",
      "  1.00129202 15.90700749  4.1111888   5.40367775  1.47669025  5.70080165\n",
      " 18.55636223  1.03100441  5.40367775  1.17956636  5.651281    5.70080165\n",
      "  4.74010105  1.47669025  1.17956636  1.03595648  2.94250148  1.21423081\n",
      "  1.93723229  4.51230606  9.96452956  5.40367775 15.90700749  4.27955901\n",
      "  1.23899114  4.31422346  1.00624409  1.4420258   3.51694101 12.02954064\n",
      "  7.48354503  9.96452956  3.67045502  3.62093437  3.76949632 11.1035045\n",
      "  5.34920504  4.56677878 12.49998681  6.19600814  1.1449019   3.57141372\n",
      "  2.46215118  3.02668658  1.21423081  1.16471016 12.05430096  1.00129202\n",
      "  1.68962905  2.94250148  1.15480603  3.62093437  6.93881788  1.00624409\n",
      "  4.76981344  7.55287394  3.02668658  7.41421612  1.1597581   1.49154645\n",
      "  1.3429845   7.48354503  7.48354503  1.16471016  7.48354503  8.7166092\n",
      " 13.32202959  3.67045502  5.88898012  1.68962905  1.63020427  4.58163497\n",
      "  9.92986511  1.01614822  5.40367775  4.19042184  5.47300666  1.37269689\n",
      "  4.21518217  1.00624409  4.28946314  1.9223761   1.21918288 15.90700749\n",
      "  6.09201478  4.21518217  8.07284075  2.61071313 15.90700749  4.21518217\n",
      "  1.17956636  2.70480236  0.98148376  1.21918288  1.02110028  5.40367775\n",
      "  3.57141372  3.17029646  4.45783335  1.1449019   1.03595648  7.48354503\n",
      "  5.70080165  1.16471016  4.90847126  1.03100441 10.87570951  1.00129202\n",
      "  4.51230606  1.47669025  5.05703321  9.96452956  3.21981711  1.01614822\n",
      "  7.48354503  1.10528538  3.91805827  4.70048453  1.07062093  3.744736\n",
      "  4.09633261  7.55287394  4.27955901  7.48354503  8.07284075  5.16597863\n",
      "  0.90720279  5.651281    1.12014158  1.68962905  2.80384366  1.06566886]\n"
     ]
    }
   ],
   "source": [
    "print(y_train_pred)"
   ]
  },
  {
   "cell_type": "code",
   "execution_count": 42,
   "metadata": {},
   "outputs": [
    {
     "name": "stdout",
     "output_type": "stream",
     "text": [
      "[ 5.40367775  1.15777727  3.57141372  6.49313204 10.53896909  3.70511948\n",
      "  4.1111888   1.02110028  4.1111888   5.40367775  3.02668658  1.21918288\n",
      "  3.57141372  5.67108926  6.09201478 12.21276704  4.95799191  4.09633261\n",
      "  1.26870353  1.65001253  4.71534073  3.57141372  5.40367775  7.48354503\n",
      "  1.12014158  1.16471016  1.13846422  1.3429845   1.23899114  8.19664238\n",
      "  4.1111888   5.651281    1.23899114  5.15112244  5.70080165  1.49154645\n",
      "  4.56182671  4.63610769  1.12014158  7.68162762  5.61661654 18.55636223\n",
      "  3.57141372  4.27955901  4.74010105  7.48354503  1.03595648  1.32812831\n",
      "  5.651281    5.01246462  6.7110229   2.94250148  5.40367775 18.55636223\n",
      "  1.49154645  1.47669025  1.13846422  2.94250148  3.65559883  2.45719911\n",
      "  7.53306568]\n"
     ]
    }
   ],
   "source": [
    "print(y_test_pred)"
   ]
  },
  {
   "cell_type": "code",
   "execution_count": null,
   "metadata": {},
   "outputs": [],
   "source": []
  }
 ],
 "metadata": {
  "kernelspec": {
   "display_name": "Python 3",
   "language": "python",
   "name": "python3"
  },
  "language_info": {
   "codemirror_mode": {
    "name": "ipython",
    "version": 3
   },
   "file_extension": ".py",
   "mimetype": "text/x-python",
   "name": "python",
   "nbconvert_exporter": "python",
   "pygments_lexer": "ipython3",
   "version": "3.8.2"
  }
 },
 "nbformat": 4,
 "nbformat_minor": 4
}
